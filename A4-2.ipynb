{
 "cells": [
  {
   "cell_type": "code",
   "execution_count": 1,
   "metadata": {},
   "outputs": [],
   "source": [
    "# FYSS5304 Assignment 4-2 Panu Lappalainen 30.11.2020\n",
    "# Adapted from https://qiskit.org/textbook/ch-algorithms/shor.html\n",
    "#  and https://github.com/msilaev/qiskit/blob/master/HW4-hint.ipynb\n",
    "import matplotlib.pyplot as plt\n",
    "import numpy as np\n",
    "from qiskit import QuantumCircuit, Aer, execute\n",
    "from qiskit.visualization import plot_histogram\n",
    "from math import gcd\n",
    "from numpy.random import randint\n",
    "import pandas as pd\n",
    "from fractions import Fraction\n",
    "import matplotlib.pyplot as plt"
   ]
  },
  {
   "cell_type": "code",
   "execution_count": 2,
   "metadata": {},
   "outputs": [
    {
     "name": "stdout",
     "output_type": "stream",
     "text": [
      "Could not find period, check a < N and have no common factors.\n"
     ]
    },
    {
     "data": {
      "image/png": "[encoded data removed]",
      "text/plain": [
       "<Figure size 432x288 with 1 Axes>"
      ]
     },
     "metadata": {
      "needs_background": "light"
     },
     "output_type": "display_data"
    }
   ],
   "source": [
    "# Values of N and a in a^x(mod N)\n",
    "N = 9\n",
    "a = 2\n",
    "\n",
    "# Calculate the plotting data\n",
    "xvals = np.arange(10)\n",
    "yvals = [np.mod(a**x, N) for x in xvals]\n",
    "\n",
    "# Use matplotlib to display it nicely\n",
    "fig, ax = plt.subplots()\n",
    "ax.plot(xvals, yvals, linewidth=1, linestyle='dotted', marker='x')\n",
    "ax.set(xlabel='$x$', ylabel='$%i^x$ mod $%i$' % (a, N),\n",
    "       title=\"Example of Periodic Function in Shor's Algorithm\")\n",
    "try: # plot r on the graph\n",
    "    r = yvals[1:].index(1) +1 \n",
    "    plt.annotate(text='', xy=(0,1), xytext=(r,1), arrowprops=dict(arrowstyle='<->'))\n",
    "    plt.annotate(text='$r=%i$' % r, xy=(r/3,1.5))\n",
    "except:\n",
    "    print('Could not find period, check a < N and have no common factors.')"
   ]
  },
  {
   "cell_type": "code",
   "execution_count": 3,
   "metadata": {},
   "outputs": [],
   "source": [
    "def qft_dagger(n):\n",
    "    \"\"\"n-qubit QFTdagger the first n qubits in circ\"\"\"\n",
    "    qc = QuantumCircuit(n)\n",
    "    # Don't forget the Swaps!\n",
    "    for qubit in range(n//2):\n",
    "        qc.swap(qubit, n-qubit-1)\n",
    "    for j in range(n):\n",
    "        for m in range(j):\n",
    "            qc.cp(-np.pi/float(2**(j-m)), m, j)\n",
    "        qc.h(j)\n",
    "    qc.name = \"QFT†\"\n",
    "    return qc"
   ]
  },
  {
   "cell_type": "code",
   "execution_count": 4,
   "metadata": {},
   "outputs": [],
   "source": [
    "def U1():\n",
    "    \"\"\"Controlled multiplication by 9 mod 10\"\"\"\n",
    "    U = QuantumCircuit(4)   \n",
    "    U.x(1)\n",
    "    U.swap(3,2)\n",
    "    U = U.to_gate()\n",
    "    U.name = \"U1\" \n",
    "    c_U = U.control()\n",
    "    return c_U"
   ]
  },
  {
   "cell_type": "code",
   "execution_count": 5,
   "metadata": {},
   "outputs": [],
   "source": [
    "def U2():\n",
    "    \"\"\"Controlled multiplication by 9 mod 10\"\"\"\n",
    "    U = QuantumCircuit(4)   \n",
    "    U.x(3)\n",
    "    U = U.to_gate()\n",
    "    U.name = \"U2\" \n",
    "    c_U = U.control()\n",
    "    return c_U"
   ]
  },
  {
   "cell_type": "code",
   "execution_count": 6,
   "metadata": {},
   "outputs": [
    {
     "data": {
      "text/html": [
       "<pre style=\"word-wrap: normal;white-space: pre;background: #fff0;line-height: 1.1;font-family: &quot;Courier New&quot;,Courier,monospace\">     ┌───┐              ┌───────┐┌─┐      \n",
       "q_0: ┤ H ├──────────────┤0      ├┤M├──────\n",
       "     ├───┤              │       │└╥┘┌─┐   \n",
       "q_1: ┤ H ├───■──────────┤1 QFT† ├─╫─┤M├───\n",
       "     ├───┤   │          │       │ ║ └╥┘┌─┐\n",
       "q_2: ┤ H ├───┼──────■───┤2      ├─╫──╫─┤M├\n",
       "     └───┘┌──┴──┐┌──┴──┐└───────┘ ║  ║ └╥┘\n",
       "q_3: ─────┤0    ├┤0    ├──────────╫──╫──╫─\n",
       "          │     ││     │          ║  ║  ║ \n",
       "q_4: ─────┤1    ├┤1    ├──────────╫──╫──╫─\n",
       "          │  U2 ││  U1 │          ║  ║  ║ \n",
       "q_5: ─────┤2    ├┤2    ├──────────╫──╫──╫─\n",
       "     ┌───┐│     ││     │          ║  ║  ║ \n",
       "q_6: ┤ X ├┤3    ├┤3    ├──────────╫──╫──╫─\n",
       "     └───┘└─────┘└─────┘          ║  ║  ║ \n",
       "c: 3/═════════════════════════════╩══╩══╩═\n",
       "                                  0  1  2 </pre>"
      ],
      "text/plain": [
       "     ┌───┐              ┌───────┐┌─┐      \n",
       "q_0: ┤ H ├──────────────┤0      ├┤M├──────\n",
       "     ├───┤              │       │└╥┘┌─┐   \n",
       "q_1: ┤ H ├───■──────────┤1 QFT† ├─╫─┤M├───\n",
       "     ├───┤   │          │       │ ║ └╥┘┌─┐\n",
       "q_2: ┤ H ├───┼──────■───┤2      ├─╫──╫─┤M├\n",
       "     └───┘┌──┴──┐┌──┴──┐└───────┘ ║  ║ └╥┘\n",
       "q_3: ─────┤0    ├┤0    ├──────────╫──╫──╫─\n",
       "          │     ││     │          ║  ║  ║ \n",
       "q_4: ─────┤1    ├┤1    ├──────────╫──╫──╫─\n",
       "          │  U2 ││  U1 │          ║  ║  ║ \n",
       "q_5: ─────┤2    ├┤2    ├──────────╫──╫──╫─\n",
       "     ┌───┐│     ││     │          ║  ║  ║ \n",
       "q_6: ┤ X ├┤3    ├┤3    ├──────────╫──╫──╫─\n",
       "     └───┘└─────┘└─────┘          ║  ║  ║ \n",
       "c: 3/═════════════════════════════╩══╩══╩═\n",
       "                                  0  1  2 "
      ]
     },
     "execution_count": 6,
     "metadata": {},
     "output_type": "execute_result"
    }
   ],
   "source": [
    "# Number of counting cubits\n",
    "n_count = 3\n",
    "\n",
    "# Create QuantumCircuit with n_count counting qubits plus 4 qubits for U to act on\n",
    "qc = QuantumCircuit(n_count + 4, n_count)\n",
    "\n",
    "# Initialise counting qubits in state |+>\n",
    "for q in range(n_count):\n",
    "    qc.h(q)\n",
    "    \n",
    "# And ancilla register in state |1>\n",
    "qc.x(3+n_count)\n",
    "\n",
    "# Do the controlled-U operations\n",
    "qc.append(U2(), [1] + [i+n_count for i in range(4)])\n",
    "qc.append(U1(), [2] + [i+n_count for i in range(4)])\n",
    "\n",
    "# Do inverse-QFT\n",
    "qc.append(qft_dagger(n_count), range(n_count))\n",
    "\n",
    "# Measure circuit\n",
    "qc.measure(range(n_count), range(n_count))\n",
    "qc.draw('text')"
   ]
  },
  {
   "cell_type": "code",
   "execution_count": 7,
   "metadata": {},
   "outputs": [
    {
     "data": {
      "image/png": "[encoded data removed]",
      "text/plain": [
       "<Figure size 504x360 with 1 Axes>"
      ]
     },
     "execution_count": 7,
     "metadata": {},
     "output_type": "execute_result"
    }
   ],
   "source": [
    "backend = Aer.get_backend('qasm_simulator')\n",
    "results = execute(qc, backend, shots=2048).result()\n",
    "counts = results.get_counts()\n",
    "plot_histogram(counts)"
   ]
  },
  {
   "cell_type": "code",
   "execution_count": 8,
   "metadata": {},
   "outputs": [
    {
     "name": "stdout",
     "output_type": "stream",
     "text": [
      "     Register Output       Phase\n",
      "0  000(bin) = 0(dec)  0/8 = 0.00\n",
      "1  001(bin) = 1(dec)  1/8 = 0.12\n",
      "2  010(bin) = 2(dec)  2/8 = 0.25\n",
      "3  011(bin) = 3(dec)  3/8 = 0.38\n",
      "4  101(bin) = 5(dec)  5/8 = 0.62\n",
      "5  110(bin) = 6(dec)  6/8 = 0.75\n",
      "6  111(bin) = 7(dec)  7/8 = 0.88\n"
     ]
    }
   ],
   "source": [
    "rows, measured_phases = [], []\n",
    "for output in counts:\n",
    "    decimal = int(output, 2)  # Convert (base 2) string to decimal\n",
    "    phase = decimal/(2**n_count) # Find corresponding eigenvalue\n",
    "    measured_phases.append(phase)\n",
    "    # Add these values to the rows in our table:\n",
    "    rows.append([\"%s(bin) = %i(dec)\" % (output, decimal), \n",
    "                 \"%i/%i = %.2f\" % (decimal, 2**n_count, phase)])\n",
    "# Print the rows in a table\n",
    "headers=[\"Register Output\", \"Phase\"]\n",
    "df = pd.DataFrame(rows, columns=headers)\n",
    "print(df)"
   ]
  },
  {
   "cell_type": "code",
   "execution_count": 9,
   "metadata": {},
   "outputs": [
    {
     "name": "stdout",
     "output_type": "stream",
     "text": [
      "   Phase Fraction  Guess for r\n",
      "0  0.000      0/1            1\n",
      "1  0.125      1/8            8\n",
      "2  0.250      1/4            4\n",
      "3  0.375      3/8            8\n",
      "4  0.625      5/8            8\n",
      "5  0.750      3/4            4\n",
      "6  0.875      7/8            8\n"
     ]
    }
   ],
   "source": [
    "rows = []\n",
    "for phase in measured_phases:\n",
    "    frac = Fraction(phase).limit_denominator(15)\n",
    "    rows.append([phase, \"%i/%i\" % (frac.numerator, frac.denominator), frac.denominator])\n",
    "# Print as a table\n",
    "headers=[\"Phase\", \"Fraction\", \"Guess for r\"]\n",
    "df = pd.DataFrame(rows, columns=headers)\n",
    "print(df)"
   ]
  },
  {
   "cell_type": "code",
   "execution_count": null,
   "metadata": {},
   "outputs": [],
   "source": []
  }
 ],
 "metadata": {
  "kernelspec": {
   "display_name": "Python 3",
   "language": "python",
   "name": "python3"
  },
  "language_info": {
   "codemirror_mode": {
    "name": "ipython",
    "version": 3
   },
   "file_extension": ".py",
   "mimetype": "text/x-python",
   "name": "python",
   "nbconvert_exporter": "python",
   "pygments_lexer": "ipython3",
   "version": "3.7.6"
  }
 },
 "nbformat": 4,
 "nbformat_minor": 4
}
